{
 "cells": [
  {
   "cell_type": "code",
   "execution_count": 10,
   "id": "b53e78ae",
   "metadata": {},
   "outputs": [
    {
     "name": "stdout",
     "output_type": "stream",
     "text": [
      "Current Working Directory: c:\\Users\\Administrator\\Desktop\\sentiment-analysis-ml-project\n"
     ]
    }
   ],
   "source": [
    "\n",
    "import os\n",
    "print(\"Current Working Directory:\", os.getcwd())\n"
   ]
  },
  {
   "cell_type": "code",
   "execution_count": 1,
   "id": "77734d5a-e0f8-4368-bfe2-e762a2dec7fb",
   "metadata": {},
   "outputs": [
    {
     "name": "stderr",
     "output_type": "stream",
     "text": [
      "c:\\Users\\Administrator\\Desktop\\sentiment-analysis-ml-project\\env\\Lib\\site-packages\\sklearn\\base.py:380: InconsistentVersionWarning: Trying to unpickle estimator LogisticRegression from version 1.5.2 when using version 1.6.0. This might lead to breaking code or invalid results. Use at your own risk. For more info please refer to:\n",
      "https://scikit-learn.org/stable/model_persistence.html#security-maintainability-limitations\n",
      "  warnings.warn(\n"
     ]
    },
    {
     "name": "stdout",
     "output_type": "stream",
     "text": [
      "               0\n",
      "0           test\n",
      "1        android\n",
      "2            app\n",
      "3         beauti\n",
      "4           cute\n",
      "...          ...\n",
      "1904  samsungnot\n",
      "1905     portabl\n",
      "1906       candl\n",
      "1907   butterfli\n",
      "1908       like…\n",
      "\n",
      "[1909 rows x 1 columns]\n",
      " * Serving Flask app '__main__'\n",
      " * Debug mode: on\n"
     ]
    },
    {
     "name": "stderr",
     "output_type": "stream",
     "text": [
      "WARNING: This is a development server. Do not use it in a production deployment. Use a production WSGI server instead.\n",
      " * Running on http://127.0.0.1:5000\n",
      "Press CTRL+C to quit\n",
      "127.0.0.1 - - [24/Dec/2024 21:41:13] \"GET / HTTP/1.1\" 200 -\n",
      "127.0.0.1 - - [24/Dec/2024 21:41:14] \"GET /static/main.css HTTP/1.1\" 200 -\n",
      "127.0.0.1 - - [24/Dec/2024 21:41:14] \"GET /static/gg.jpeg HTTP/1.1\" 200 -\n",
      "127.0.0.1 - - [24/Dec/2024 21:41:42] \"POST / HTTP/1.1\" 302 -\n",
      "127.0.0.1 - - [24/Dec/2024 21:41:42] \"GET / HTTP/1.1\" 200 -\n",
      "127.0.0.1 - - [24/Dec/2024 21:41:42] \"GET /static/main.css HTTP/1.1\" 304 -\n",
      "127.0.0.1 - - [24/Dec/2024 21:41:42] \"GET /static/gg.jpeg HTTP/1.1\" 304 -\n"
     ]
    },
    {
     "name": "stdout",
     "output_type": "stream",
     "text": [
      "Prediction: positive feedback\n"
     ]
    }
   ],
   "source": [
    "from helper import *\n",
    "from logger import logging\n",
    "\n",
    "from flask import Flask, render_template, request, redirect\n",
    "\n",
    "app = Flask(__name__)\n",
    "\n",
    "# Sample data\n",
    "data = dict()\n",
    "reviews = []\n",
    "positive = 0\n",
    "negative = 0\n",
    "\n",
    "@app.route(\"/\")\n",
    "def index():\n",
    "    data[\"reviews\"] = reviews\n",
    "    data[\"positive\"] = positive\n",
    "    data[\"negative\"] = negative\n",
    "    return render_template(\"index.html\", data=data)\n",
    "\n",
    "@app.route(\"/\", methods=[\"POST\"])\n",
    "def my_post():\n",
    "    global positive, negative\n",
    "    text = request.form[\"text\"]\n",
    "    logging.info(f\"Received text: {text}\")\n",
    "    text = remove_punctuations(text)  # Remove punctuation\n",
    "    preprocessed_txt = preprocessing(text)\n",
    "    logging.info(f\"Preprocessed text: {preprocessed_txt}\")\n",
    "    vocab = pd.read_csv(\"modle/vocabulary.txt\", header=None)\n",
    "    tokens = vocab[0].tolist()  # Preprocess the text\n",
    "    vectorized_txt = vectorizer(preprocessed_txt, tokens)  # Vectorize the text\n",
    "    logging.info(f\"Vectorized text: {vectorized_txt}\")\n",
    "    # Get the prediction\n",
    "    prediction = get_prediction(vectorized_txt)\n",
    "    logging.info(f\"Prediction: {prediction}\")\n",
    "    \n",
    "    # Debugging: Print the prediction to check if it's correct\n",
    "    print(f\"Prediction: {prediction}\")  # Check what the model predicts\n",
    "    \n",
    "    if prediction == \"negative feedback\":\n",
    "        negative += 1  # Increment negative feedback count\n",
    "    elif prediction == \"positive feedback\":\n",
    "        positive += 1  # Increment positive feedback count\n",
    "    \n",
    "    reviews.insert(0, text)  # Insert the new review\n",
    "    return redirect(request.url)\n",
    "\n",
    "if __name__ == '__main__':\n",
    "    app.run(debug=True, use_reloader=False)\n"
   ]
  },
  {
   "cell_type": "code",
   "execution_count": null,
   "id": "6b4b9e42-ee3f-42c1-95e8-0eb1eef5d3a1",
   "metadata": {},
   "outputs": [],
   "source": []
  }
 ],
 "metadata": {
  "kernelspec": {
   "display_name": "env",
   "language": "python",
   "name": "python3"
  },
  "language_info": {
   "codemirror_mode": {
    "name": "ipython",
    "version": 3
   },
   "file_extension": ".py",
   "mimetype": "text/x-python",
   "name": "python",
   "nbconvert_exporter": "python",
   "pygments_lexer": "ipython3",
   "version": "3.13.0"
  }
 },
 "nbformat": 4,
 "nbformat_minor": 5
}
